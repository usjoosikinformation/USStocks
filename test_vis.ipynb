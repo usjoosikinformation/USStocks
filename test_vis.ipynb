{
 "cells": [
  {
   "cell_type": "code",
   "execution_count": 11,
   "id": "3125ee10-5ea4-47b5-8f99-c174f97e10cf",
   "metadata": {},
   "outputs": [
    {
     "data": {
      "text/html": [
       "\n",
       "        <iframe\n",
       "            width=\"100%\"\n",
       "            height=\"650\"\n",
       "            src=\"http://127.0.0.1:8050/\"\n",
       "            frameborder=\"0\"\n",
       "            allowfullscreen\n",
       "            \n",
       "        ></iframe>\n",
       "        "
      ],
      "text/plain": [
       "<IPython.lib.display.IFrame at 0x2313b484d50>"
      ]
     },
     "metadata": {},
     "output_type": "display_data"
    }
   ],
   "source": [
    "from dash import Dash, dcc, html, Input, Output\n",
    "import plotly.express as px\n",
    "\n",
    "app = Dash(__name__)\n",
    "\n",
    "\n",
    "app.layout = html.Div([\n",
    "    html.H4('Animated GDP and population over decades'),\n",
    "    html.P(\"Select an animation:\"),\n",
    "    dcc.RadioItems(\n",
    "        id='selection',\n",
    "        options=[\"GDP - Scatter\", \"Population - Bar\"],\n",
    "        value='GDP - Scatter',\n",
    "    ),\n",
    "    dcc.Loading(dcc.Graph(id=\"graph\"), type=\"cube\")\n",
    "])\n",
    "\n",
    "\n",
    "@app.callback(\n",
    "    Output(\"graph\", \"figure\"), \n",
    "    Input(\"selection\", \"value\"))\n",
    "def display_animated_graph(selection):\n",
    "    df = px.data.gapminder() # replace with your own data source\n",
    "    animations = {\n",
    "        'GDP - Scatter': px.scatter(\n",
    "            df, x=\"gdpPercap\", y=\"lifeExp\", animation_frame=\"year\", \n",
    "            animation_group=\"country\", size=\"pop\", color=\"continent\", \n",
    "            hover_name=\"country\", log_x=True, size_max=55, \n",
    "            range_x=[100,100000], range_y=[25,90]),\n",
    "        'Population - Bar': px.bar(\n",
    "            df, x=\"continent\", y=\"pop\", color=\"continent\", \n",
    "            animation_frame=\"year\", animation_group=\"country\", \n",
    "            range_y=[0,4000000000]),\n",
    "    }\n",
    "    return animations[selection]\n",
    "\n",
    "\n",
    "from dash import Dash, dcc, html, Input, Output\n",
    "import plotly.express as px\n",
    "\n",
    "app = Dash(__name__)\n",
    "\n",
    "\n",
    "app.layout = html.Div([\n",
    "    html.H4('Animated GDP and population over decades'),\n",
    "    html.P(\"Select an animation:\"),\n",
    "    dcc.RadioItems(\n",
    "        id='selection',\n",
    "        options=[\"GDP - Scatter\", \"Population - Bar\"],\n",
    "        value='GDP - Scatter',\n",
    "    ),\n",
    "    dcc.Loading(dcc.Graph(id=\"graph\"), type=\"cube\")\n",
    "])\n",
    "\n",
    "\n",
    "@app.callback(\n",
    "    Output(\"graph\", \"figure\"), \n",
    "    Input(\"selection\", \"value\"))\n",
    "def display_animated_graph(selection):\n",
    "    df = px.data.gapminder() # replace with your own data source\n",
    "    animations = {\n",
    "        'GDP - Scatter': px.scatter(\n",
    "            df, x=\"gdpPercap\", y=\"lifeExp\", animation_frame=\"year\", \n",
    "            animation_group=\"country\", size=\"pop\", color=\"continent\", \n",
    "            hover_name=\"country\", log_x=True, size_max=55, \n",
    "            range_x=[100,100000], range_y=[25,90]),\n",
    "        'Population - Bar': px.bar(\n",
    "            df, x=\"continent\", y=\"pop\", color=\"continent\", \n",
    "            animation_frame=\"year\", animation_group=\"country\", \n",
    "            range_y=[0,4000000000]),\n",
    "    }\n",
    "    return animations[selection]\n",
    "\n",
    "\n",
    "app.run_server(debug=True)"
   ]
  }
 ],
 "metadata": {
  "kernelspec": {
   "display_name": "Python 3 (ipykernel)",
   "language": "python",
   "name": "python3"
  },
  "language_info": {
   "codemirror_mode": {
    "name": "ipython",
    "version": 3
   },
   "file_extension": ".py",
   "mimetype": "text/x-python",
   "name": "python",
   "nbconvert_exporter": "python",
   "pygments_lexer": "ipython3",
   "version": "3.11.7"
  }
 },
 "nbformat": 4,
 "nbformat_minor": 5
}
